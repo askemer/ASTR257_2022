{
 "cells": [
  {
   "cell_type": "markdown",
   "id": "ec0ccb4b",
   "metadata": {},
   "source": [
    "# Astr 257 JWST Planning, Aditya Sengupta"
   ]
  },
  {
   "cell_type": "code",
   "execution_count": 1,
   "id": "bd526c1b",
   "metadata": {},
   "outputs": [
    {
     "name": "stdout",
     "output_type": "stream",
     "text": [
      "/Users/adityasengupta/opt/anaconda3/envs/astr257/bin/python\n"
     ]
    }
   ],
   "source": [
    "!which python"
   ]
  },
  {
   "cell_type": "code",
   "execution_count": 13,
   "id": "81070658",
   "metadata": {},
   "outputs": [],
   "source": []
  },
  {
   "cell_type": "code",
   "execution_count": 11,
   "id": "2bd57194",
   "metadata": {},
   "outputs": [],
   "source": []
  },
  {
   "cell_type": "code",
   "execution_count": null,
   "id": "268a9be3",
   "metadata": {},
   "outputs": [],
   "source": [
    "u"
   ]
  }
 ],
 "metadata": {
  "kernelspec": {
   "display_name": "Python 3.10.4 ('astr257')",
   "language": "python",
   "name": "python3"
  },
  "language_info": {
   "codemirror_mode": {
    "name": "ipython",
    "version": 3
   },
   "file_extension": ".py",
   "mimetype": "text/x-python",
   "name": "python",
   "nbconvert_exporter": "python",
   "pygments_lexer": "ipython3",
   "version": "3.10.4"
  },
  "vscode": {
   "interpreter": {
    "hash": "99f41cdb89c527d0fd5ee7895984daaaff1d133a65ac806f592721ea2d76c76d"
   }
  }
 },
 "nbformat": 4,
 "nbformat_minor": 5
}
