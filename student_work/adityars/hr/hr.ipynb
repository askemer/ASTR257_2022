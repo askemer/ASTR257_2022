{
 "cells": [
  {
   "cell_type": "markdown",
   "id": "243a5ee4",
   "metadata": {},
   "source": [
    "# Astr 257 HR Diagram, Aditya Sengupta"
   ]
  },
  {
   "cell_type": "code",
   "execution_count": 12,
   "id": "2825cdbd",
   "metadata": {},
   "outputs": [],
   "source": [
    "from astropy.io import fits\n",
    "from astropy.stats import SigmaClip, sigma_clipped_stats\n",
    "from astropy.table import Table\n",
    "from astropy.visualization import ZScaleInterval\n",
    "from matplotlib import pyplot as plt\n",
    "import numpy as np\n",
    "import pandas as pd\n",
    "from os import path\n",
    "from photutils.background import MedianBackground\n",
    "from photutils.detection import DAOStarFinder\n",
    "from photutils.aperture import CircularAperture, aperture_photometry"
   ]
  },
  {
   "cell_type": "code",
   "execution_count": 13,
   "id": "9d6c363d",
   "metadata": {},
   "outputs": [],
   "source": [
    "datapath = \"../../../Project 2--HR Diagram/data/\"\n",
    "getlims = ZScaleInterval().get_limits\n",
    "\n",
    "def view_as_ds9(img, **kwargs):\n",
    "    vmin, vmax = getlims(img)\n",
    "    if vmin > vmax:\n",
    "        vmin, vmax = vmax, vmin\n",
    "    plt.imshow(img, vmin=vmin, vmax=vmax, **kwargs)\n",
    "\n",
    "def fname_to_data(fname, calib):\n",
    "    return np.dstack([fits.open(path.join(datapath, calib, fname + str(i) + \".fits\"))[0].data for i in range(3)]).astype(np.float64)\n",
    "\n",
    "darks, biases, flatsB, flatsV = map(lambda x: fname_to_data(x, \"calibration\"), [\"dark\", \"bias\", \"flatB\", \"flatV\"])\n",
    "landBs, landVs, ngcBs, ngcVs = map(lambda x: fname_to_data(x, \"ngc 6819\"), [\"land_b\", \"land_v\", \"ngc_b\", \"ngc_v\"])"
   ]
  },
  {
   "cell_type": "code",
   "execution_count": 14,
   "id": "c75b19c7",
   "metadata": {},
   "outputs": [],
   "source": [
    "med_dark, med_bias, med_flatB, med_flatV = map(lambda x: np.nanmedian(x, axis=2), [darks, biases, flatsB, flatsV])\n",
    "med_dark = med_dark - med_bias\n",
    "med_flatB = med_flatB - med_bias\n",
    "med_flatV = med_flatV - med_bias\n",
    "\n",
    "mediandiv = lambda x: x / np.nanmedian(x)\n",
    "\n",
    "corr_landBs, corr_landVs, corr_ngcBs, corr_ngcVs = [np.zeros_like(x) for x in [landBs, landVs, ngcBs, ngcVs]]\n",
    "denomB = mediandiv(med_flatB - med_dark / 2)\n",
    "denomV = mediandiv(med_flatV - med_dark / 6)\n",
    "denomB[np.where(denomB == 0)] = 1\n",
    "denomV[np.where(denomV == 0)] = 1\n",
    "for i in range(3):\n",
    "    corr_landBs[:,:,i] = ((landBs[:,:,i] - med_bias) - med_dark / 2) / denomB\n",
    "    corr_landVs[:,:,i] = ((landVs[:,:,i] - med_bias) - med_dark / 6) / denomV\n",
    "    corr_ngcBs[:,:,i] = ((ngcBs[:,:,i] - med_bias) - med_dark / 2) / denomB\n",
    "    corr_ngcVs[:,:,i] = ((ngcVs[:,:,i] - med_bias) - med_dark / 6) / denomV\n",
    "\n",
    "landB, landV, ngcB, ngcV = map(lambda x: np.nanmedian(x, axis=2), [corr_landBs, corr_landVs, corr_ngcBs, corr_ngcVs])"
   ]
  },
  {
   "cell_type": "markdown",
   "id": "46767f52",
   "metadata": {},
   "source": [
    "checking exposure times here\n",
    "\n",
    "`fits.open(path.join(datapath, \"ngc 6819\", \"ngc_v0.fits\"))[0].header['EXPTIME'] # etc`\n",
    "\n",
    "darks were 60 seconds\n",
    "\n",
    "biases were 0 seconds (obv)\n",
    "\n",
    "flatsB were 30 seconds\n",
    "\n",
    "flatsV were 10 seconds\n",
    "\n",
    "landB were 60 seconds\n",
    "\n",
    "landV were 60 seconds\n",
    "\n",
    "ngcB were 60 seconds\n",
    "\n",
    "ngcV were 60 seconds"
   ]
  },
  {
   "cell_type": "code",
   "execution_count": 15,
   "id": "0e4489ee",
   "metadata": {},
   "outputs": [],
   "source": [
    "fix = lambda img: np.delete(img[:, :990], 256, 1)\n",
    "if ngcB.shape[1] == 1056:\n",
    "    ngcB, ngcV, landB, landV = map(fix, [ngcB, ngcV, landB, landV])"
   ]
  },
  {
   "cell_type": "code",
   "execution_count": 20,
   "id": "f0bbb78e",
   "metadata": {},
   "outputs": [
    {
     "data": {
      "text/plain": [
       "(1024, 989)"
      ]
     },
     "execution_count": 20,
     "metadata": {},
     "output_type": "execute_result"
    }
   ],
   "source": [
    "ngcB.shape"
   ]
  },
  {
   "cell_type": "code",
   "execution_count": 22,
   "id": "ec28a9af",
   "metadata": {},
   "outputs": [
    {
     "data": {
      "text/plain": [
       "SIMPLE  =                    T / NORMAL FITS IMAGE                              \n",
       "BITPIX  =                   16 / DATA PRECISION                                 \n",
       "NAXIS   =                    2 / NUMBER OF IMAGE DIMENSIONS                     \n",
       "NAXIS1  =                 1056 / NUMBER OF COLUMNS                              \n",
       "NAXIS2  =                 1024 / NUMBER OF ROWS                                 \n",
       "CRVAL1U =                 2048 / COLUMN ORIGIN                                  \n",
       "CRVAL2U =                 2048 / ROW ORIGIN                                     \n",
       "CDELT1U =                   -2 / COLUMN CHANGE PER PIXEL                        \n",
       "CDELT2U =                   -2 / ROW CHANGE PER PIXEL                           \n",
       "OBSNUM  =                 3158 / OBSERVATION NUMBER                             \n",
       "IDNUM   =                    3 / IMAGE ID                                       \n",
       "UGEOM   =                    0 / UCAM READOUT GEOMETRY                          \n",
       "DGEOM   =                    0 / DESCRAMBLE GEOMETRY                            \n",
       "AMPSROW =                    1 / AMPLIFIERS PER ROW                             \n",
       "AMPSCOL =                    1 / AMPLIFIERS PER COLUMN                          \n",
       "OBSTYPE = 'OBJECT'             / IMAGE TYPE                                     \n",
       "EXPTIME =                   60 / Exp time (not counting shutter error)          \n",
       "BSCALE  =                    1 / DATA SCALE FACTOR                              \n",
       "BZERO   =                32768 / DATA ZERO POINT                                \n",
       "COMMENT    Real Value = FITS*BSCALE+BZERO                                       \n",
       "PROGRAM = 'NEWCAM'             / New Lick Camera                                \n",
       "VERSION = 'nickel_direct'      / Data acquisition version                       \n",
       "TSEC    =           1569303291 / CLOCK TICK - SECONDS                           \n",
       "TUSEC   =               727988 / CLOCK TICK - MICROSECONDS                      \n",
       "DATE    = '2019-09-24T05:34:51.72' / UT of CCD readout & descramble             \n",
       "DATASEC = '[1:1024,1:1024]'        / IRAF/NOAO-style data section               \n",
       "COMMENT End of cards hard-coded in fits_cards                                   \n",
       "COMMENT Begin of cards from other times                                         \n",
       "CSYER2  =     0.01666669920087 / systematic error along direction of WCS axis i \n",
       "CSYER1  =     0.01666669920087 / systematic error along direction of WCS axis i \n",
       "CRDER2  =   5.139999848325E-05 / random error along direction of WCS axis i     \n",
       "CRDER1  =   5.139999848325E-05 / random error along direction of WCS axis i     \n",
       "CD2_2   =  -0.0001027239995892 / CTM element i_j from FITS axis j to WCS axis i \n",
       "CD2_1   =   3.946270226152E-06 / CTM element i_j from FITS axis j to WCS axis i \n",
       "CD1_2   =  -3.946270226152E-06 / CTM element i_j from FITS axis j to WCS axis i \n",
       "CD1_1   =  -0.0001027239995892 / CTM element i_j from FITS axis j to WCS axis i \n",
       "CRVAL2  =      0.4170500040054 / coord value of WCS axis i at ref pixel         \n",
       "CRVAL1  =       294.3708190918 / coord value of WCS axis i at ref pixel         \n",
       "CRPIX2  =                  512 / reference pixel along FITS axis j              \n",
       "CRPIX1  =                  512 / reference pixel along FITS axis j              \n",
       "CUNIT2  = 'deg               ' / unit of WCS axis i                             \n",
       "CUNIT1  = 'deg               ' / unit of WCS axis i                             \n",
       "EQUINOX =                 2000 / date of celestial reference frame              \n",
       "RADECSYS= 'FK5               ' / reference system for celestial coordinates     \n",
       "CNAME2  = 'Declination       ' / name of WCS axis i                             \n",
       "CNAME1  = 'Right Ascension   ' / name of WCS axis i                             \n",
       "CTYPE2  = 'DEC--TAN          ' / type of WCS axis i                             \n",
       "CTYPE1  = 'RA---TAN          ' / type of WCS axis i                             \n",
       "WCSNAME = 'Celestial coordinates' / name of WCS                                 \n",
       "CRVAL2C =                    0 / coord value of WCS axis i at ref pixel         \n",
       "CRVAL1C =                    0 / coord value of WCS axis i at ref pixel         \n",
       "CRVAL2S =      0.4170500040054 / coord value of WCS axis i at ref pixel         \n",
       "CRVAL1S =       294.3708190918 / coord value of WCS axis i at ref pixel         \n",
       "CSYER2C =                    0 / systematic error along direction of WCS axis i \n",
       "CSYER1C =                    0 / systematic error along direction of WCS axis i \n",
       "CRDER2C =                    0 / random error along direction of WCS axis i     \n",
       "CRDER1C =                    0 / random error along direction of WCS axis i     \n",
       "CD2_2C  =                   -2 / CTM element i_j from FITS axis j to WCS axis i \n",
       "CD2_1C  =                    0 / CTM element i_j from FITS axis j to WCS axis i \n",
       "CD1_2C  =                    0 / CTM element i_j from FITS axis j to WCS axis i \n",
       "CD1_1C  =                   -2 / CTM element i_j from FITS axis j to WCS axis i \n",
       "CRPIX2C =                  0.5 / reference pixel along FITS axis j              \n",
       "CRPIX1C =                  0.5 / reference pixel along FITS axis j              \n",
       "CUNIT2C = 'CCDpix            ' / unit of WCS axis i                             \n",
       "CUNIT1C = 'CCDpix            ' / unit of WCS axis i                             \n",
       "CNAME2C = 'CCD Y pixel       ' / name of WCS axis i                             \n",
       "CNAME1C = 'CCD X pixel       ' / name of WCS axis i                             \n",
       "CTYPE2C = 'linear            ' / type of WCS axis i                             \n",
       "CTYPE1C = 'linear            ' / type of WCS axis i                             \n",
       "WCSNAMEC= 'CCD pixel coordinates' / name of WCS                                 \n",
       "CSYER2S =     0.01666669920087 / systematic error along direction of WCS axis i \n",
       "CSYER1S =     0.01666669920087 / systematic error along direction of WCS axis i \n",
       "CRDER2S =   5.139999848325E-05 / random error along direction of WCS axis i     \n",
       "CRDER1S =   5.139999848325E-05 / random error along direction of WCS axis i     \n",
       "CD2_2S  =  -0.0001027239995892 / CTM element i_j from FITS axis j to WCS axis i \n",
       "CD2_1S  =   3.946270226152E-06 / CTM element i_j from FITS axis j to WCS axis i \n",
       "CD1_2S  =  -3.946270226152E-06 / CTM element i_j from FITS axis j to WCS axis i \n",
       "CD1_1S  =  -0.0001027239995892 / CTM element i_j from FITS axis j to WCS axis i \n",
       "CRPIX2S =                  512 / reference pixel along FITS axis j              \n",
       "CRPIX1S =                  512 / reference pixel along FITS axis j              \n",
       "CUNIT2S = 'deg               ' / unit of WCS axis i                             \n",
       "CUNIT1S = 'deg               ' / unit of WCS axis i                             \n",
       "EQUINOXS=                 2000 / date of celestial reference frame              \n",
       "RADESYSS= 'FK5               ' / reference system for celestial coordinates     \n",
       "CNAME2S = 'Declination       ' / name of WCS axis i                             \n",
       "CNAME1S = 'Right Ascension   ' / name of WCS axis i                             \n",
       "CTYPE2S = 'DEC--TAN          ' / type of WCS axis i                             \n",
       "CTYPE1S = 'RA---TAN          ' / type of WCS axis i                             \n",
       "WCSNAMES= 'Celestial coordinates' / name of WCS                                 \n",
       "AIRMASS =        1.43872153759 / AIRMASS AT START OF OBSERVATION                \n",
       "OWNRNOTE= 'notyetset         ' / OWNRNOTE for archive data                      \n",
       "OWNRHINT= 'notyetset         ' / OWNRHINT for archive data                      \n",
       "HA      = '02:01:04.58       ' / HOUR ANGLE                                     \n",
       "DEC     = '00:25:01.4        ' / DECLINATION                                    \n",
       "RA      = '19:37:28.98       ' / RIGHT ASCENSION                                \n",
       "OBSERVER= 'ASTR257           ' / OBSERVER NAME                                  \n",
       "APERNAM = 'Open              ' / APERTURE POSITION NAME                         \n",
       "INSTRUME= 'Nickel Direct Camera'                                                \n",
       "TUB     =                    0 / TELESCOPE TUB ROTATION                         \n",
       "APERRAW =                 1250 / APERTURE RAW POSITION                          \n",
       "FILTRAW =                 2373 / FILTER RAW POSITION                            \n",
       "FILTORD =                    2 / FILTER ORDINAL POSITION                        \n",
       "APERORD =                    0 / APERTURE ORDINAL POSITION                      \n",
       "FILTNAM = 'V                 ' / FILTER POSITION NAME                           \n",
       "GEOMCODE=                    0 / READOUT GEOMETRY                               \n",
       "DSENSOR = 'Loral 2Kx2K       ' / SENSOR DESCRIPTION                             \n",
       "DNAXIS2 =                 2048 / ROWS IN SENSOR                                 \n",
       "DNAXIS1 =                 2048 / COLUMNS IN SENSOR                              \n",
       "UCAMADC = '4-amp QADC        ' / UCAM ADC BOARDS                                \n",
       "UCAMCDB = 'New CDB           ' / UCAM CDB BOARDS                                \n",
       "CAMERAID=                    2 / CAMERA ID NUMBER                               \n",
       "UCAMSPB = '2 DSPB            ' / UCAM SPB BOARDS                                \n",
       "UCAMSOFT= '4.08 052011       ' / UCAM SOFTWARE VERSION                          \n",
       "UCAMTIM = 'New Timing        ' / UCAM TIMING BOARDS                             \n",
       "ERPBIN  =                    5 / PARALLEL BINNING DURING ERASE                  \n",
       "ERASE   =                    3 / NUMBER OF ERASES                               \n",
       "PSKIP   =                    0 / CONTROLS POST-IMAGE SKIPPING                   \n",
       "CSMP    =                    1 / DCS CAP SELECTION                              \n",
       "CSELPRD =                    0 / PREREAD CLOCK SELECTION                        \n",
       "SCLEAN  =                    0 / SERIAL CLEANING CLOCK SELECTION                \n",
       "BINPRD  =                    0 / PREREAD SERIAL BINNING                         \n",
       "BINSCLN =                    0 / BINNING FOR SERIAL CLEAN                       \n",
       "PPRERD  =                    4 / PRE-IMAGE ROWS                                 \n",
       "PFREQ   =                    1 / PARALLEL CLOCK PERIOD                          \n",
       "PADDC   =                    0 / PARALLEL CLOCK CAPACITOR SELECTION             \n",
       "NSTIME  =                   32 / CONTROLS RISING TIME FOR SUBSTRATE             \n",
       "VSUBEX  =                    0 / SUBSTRATE VOLTAGE DURING EXPOSURE              \n",
       "VSUBER  =                    0 / SUBSTRATE VOLTAGE DURING ERASE                 \n",
       "NHBESP  =                   32 / BINNING FOR SPECIAL ERASE                      \n",
       "MERSP   =                    0 / CONTROLS SPECIAL ERASE MODE                    \n",
       "TCPR1   =                    4 / PRE-IMAGE SERIAL PIXELS                        \n",
       "TSPRD   =                   40 / SAMPLE TIME IN 0.1 MICROSECOND UNITS           \n",
       "TSCLEAN =                   40 / SERIAL CLEAN SAMPLE TIME                       \n",
       "SFREQ   =                    2 / SERIAL CLOCK PERIOD                            \n",
       "SADDC   =                    2 / SERIAL CLOCK CAP SELECTION                     \n",
       "REVERASE=                    0 / NUMBER OF REVERSE ERASES                       \n",
       "TCPR2   =                    4 / POST-IMAGE SERIAL PIXELS BEFORE OVERSCAN       \n",
       "DATE-BEG= '2019-09-24T05:33:51.11' / START OF OBSERVATION                       \n",
       "EQUINOXU=       2019.729980469 / EPOCH FOR POCO POSITION IS CURRENT DATE        \n",
       "DATE-END= '2019-09-24T05:34:51.11' / END OF OBSERVATION                         \n",
       "GAIN    =                    1 / DCS GAIN INDEX                                 \n",
       "TEMPCON =       14.19999980927 / CONTROLLER TEMPERATURE                         \n",
       "NCSHIFT =                    0 / NUMBER OF CHARGE SHUFFLES                      \n",
       "RCSHIFT =                    0 / NUMBER OF ROWS IN EACH CHARGE SHUFFLE          \n",
       "ROVER   =                    0 / NUMBER OF OVERSCAN ROWS                        \n",
       "COVER   =                   32 / NUMBER OF OVERSCAN COLUMNS                     \n",
       "MPP     =                    1 / MPP STATE                                      \n",
       "TEMPDET =      -109.3000030518 / EXPOSURE START DETECTOR TEMPERATURE            \n",
       "TEMPDETE=                    0 / EXPOSURE END DETECTOR TEMPERATURE              \n",
       "READ-SPD=                   80 / DCS READ SPEED                                 \n",
       "OBJECT  = 'land_v            '                                                  \n",
       "CKSUMOK =                    T / cd: CHECKSUMS MATCH                            \n",
       "CAMCKSUM=                61740 / cd: CAMERA-COMPUTED CHECKSUM                   \n",
       "SFTCKSUM=                61740 / cd: SOFTWARE-COMPUTED CHECKSUM                 \n",
       "COMMENT End of cards from other times                                           "
      ]
     },
     "execution_count": 22,
     "metadata": {},
     "output_type": "execute_result"
    }
   ],
   "source": [
    "h"
   ]
  },
  {
   "cell_type": "code",
   "execution_count": 32,
   "id": "0a1ce5fe",
   "metadata": {},
   "outputs": [],
   "source": [
    "\n",
    "for (name, data, hname) in zip([\"ngcB\", \"ngcV\", \"landB\", \"landV\"], [ngcB, ngcV, landB, landV], [\"ngc_b0\", \"ngc_v0\", \"land_b0\", \"land_v0\"]):\n",
    "    fits.writeto(f\"{name}.fits\", data, overwrite=True)"
   ]
  },
  {
   "cell_type": "code",
   "execution_count": 26,
   "id": "2d38f442",
   "metadata": {},
   "outputs": [
    {
     "data": {
      "text/plain": [
       "SIMPLE  =                    T / NORMAL FITS IMAGE                              \n",
       "BITPIX  =                   16 / DATA PRECISION                                 \n",
       "NAXIS   =                    2 / NUMBER OF IMAGE DIMENSIONS                     \n",
       "NAXIS1  =                 1024 / NUMBER OF COLUMNS                              \n",
       "NAXIS2  =                  989 / NUMBER OF ROWS                                 \n",
       "CRVAL1U =                 2048 / COLUMN ORIGIN                                  \n",
       "CRVAL2U =                 2048 / ROW ORIGIN                                     \n",
       "CDELT1U =                   -2 / COLUMN CHANGE PER PIXEL                        \n",
       "CDELT2U =                   -2 / ROW CHANGE PER PIXEL                           \n",
       "OBSNUM  =                 3158 / OBSERVATION NUMBER                             \n",
       "IDNUM   =                    3 / IMAGE ID                                       \n",
       "UGEOM   =                    0 / UCAM READOUT GEOMETRY                          \n",
       "DGEOM   =                    0 / DESCRAMBLE GEOMETRY                            \n",
       "AMPSROW =                    1 / AMPLIFIERS PER ROW                             \n",
       "AMPSCOL =                    1 / AMPLIFIERS PER COLUMN                          \n",
       "OBSTYPE = 'OBJECT'             / IMAGE TYPE                                     \n",
       "EXPTIME =                   60 / Exp time (not counting shutter error)          \n",
       "BSCALE  =                    1 / DATA SCALE FACTOR                              \n",
       "BZERO   =                32768 / DATA ZERO POINT                                \n",
       "COMMENT    Real Value = FITS*BSCALE+BZERO                                       \n",
       "PROGRAM = 'NEWCAM'             / New Lick Camera                                \n",
       "VERSION = 'nickel_direct'      / Data acquisition version                       \n",
       "TSEC    =           1569303291 / CLOCK TICK - SECONDS                           \n",
       "TUSEC   =               727988 / CLOCK TICK - MICROSECONDS                      \n",
       "DATE    = '2019-09-24T05:34:51.72' / UT of CCD readout & descramble             \n",
       "DATASEC = '[1:1024,1:1024]'        / IRAF/NOAO-style data section               \n",
       "COMMENT End of cards hard-coded in fits_cards                                   \n",
       "COMMENT Begin of cards from other times                                         \n",
       "CSYER2  =     0.01666669920087 / systematic error along direction of WCS axis i \n",
       "CSYER1  =     0.01666669920087 / systematic error along direction of WCS axis i \n",
       "CRDER2  =   5.139999848325E-05 / random error along direction of WCS axis i     \n",
       "CRDER1  =   5.139999848325E-05 / random error along direction of WCS axis i     \n",
       "CD2_2   =  -0.0001027239995892 / CTM element i_j from FITS axis j to WCS axis i \n",
       "CD2_1   =   3.946270226152E-06 / CTM element i_j from FITS axis j to WCS axis i \n",
       "CD1_2   =  -3.946270226152E-06 / CTM element i_j from FITS axis j to WCS axis i \n",
       "CD1_1   =  -0.0001027239995892 / CTM element i_j from FITS axis j to WCS axis i \n",
       "CRVAL2  =      0.4170500040054 / coord value of WCS axis i at ref pixel         \n",
       "CRVAL1  =       294.3708190918 / coord value of WCS axis i at ref pixel         \n",
       "CRPIX2  =                  512 / reference pixel along FITS axis j              \n",
       "CRPIX1  =                  512 / reference pixel along FITS axis j              \n",
       "CUNIT2  = 'deg               ' / unit of WCS axis i                             \n",
       "CUNIT1  = 'deg               ' / unit of WCS axis i                             \n",
       "EQUINOX =                 2000 / date of celestial reference frame              \n",
       "RADECSYS= 'FK5               ' / reference system for celestial coordinates     \n",
       "CNAME2  = 'Declination       ' / name of WCS axis i                             \n",
       "CNAME1  = 'Right Ascension   ' / name of WCS axis i                             \n",
       "CTYPE2  = 'DEC--TAN          ' / type of WCS axis i                             \n",
       "CTYPE1  = 'RA---TAN          ' / type of WCS axis i                             \n",
       "WCSNAME = 'Celestial coordinates' / name of WCS                                 \n",
       "CRVAL2C =                    0 / coord value of WCS axis i at ref pixel         \n",
       "CRVAL1C =                    0 / coord value of WCS axis i at ref pixel         \n",
       "CRVAL2S =      0.4170500040054 / coord value of WCS axis i at ref pixel         \n",
       "CRVAL1S =       294.3708190918 / coord value of WCS axis i at ref pixel         \n",
       "CSYER2C =                    0 / systematic error along direction of WCS axis i \n",
       "CSYER1C =                    0 / systematic error along direction of WCS axis i \n",
       "CRDER2C =                    0 / random error along direction of WCS axis i     \n",
       "CRDER1C =                    0 / random error along direction of WCS axis i     \n",
       "CD2_2C  =                   -2 / CTM element i_j from FITS axis j to WCS axis i \n",
       "CD2_1C  =                    0 / CTM element i_j from FITS axis j to WCS axis i \n",
       "CD1_2C  =                    0 / CTM element i_j from FITS axis j to WCS axis i \n",
       "CD1_1C  =                   -2 / CTM element i_j from FITS axis j to WCS axis i \n",
       "CRPIX2C =                  0.5 / reference pixel along FITS axis j              \n",
       "CRPIX1C =                  0.5 / reference pixel along FITS axis j              \n",
       "CUNIT2C = 'CCDpix            ' / unit of WCS axis i                             \n",
       "CUNIT1C = 'CCDpix            ' / unit of WCS axis i                             \n",
       "CNAME2C = 'CCD Y pixel       ' / name of WCS axis i                             \n",
       "CNAME1C = 'CCD X pixel       ' / name of WCS axis i                             \n",
       "CTYPE2C = 'linear            ' / type of WCS axis i                             \n",
       "CTYPE1C = 'linear            ' / type of WCS axis i                             \n",
       "WCSNAMEC= 'CCD pixel coordinates' / name of WCS                                 \n",
       "CSYER2S =     0.01666669920087 / systematic error along direction of WCS axis i \n",
       "CSYER1S =     0.01666669920087 / systematic error along direction of WCS axis i \n",
       "CRDER2S =   5.139999848325E-05 / random error along direction of WCS axis i     \n",
       "CRDER1S =   5.139999848325E-05 / random error along direction of WCS axis i     \n",
       "CD2_2S  =  -0.0001027239995892 / CTM element i_j from FITS axis j to WCS axis i \n",
       "CD2_1S  =   3.946270226152E-06 / CTM element i_j from FITS axis j to WCS axis i \n",
       "CD1_2S  =  -3.946270226152E-06 / CTM element i_j from FITS axis j to WCS axis i \n",
       "CD1_1S  =  -0.0001027239995892 / CTM element i_j from FITS axis j to WCS axis i \n",
       "CRPIX2S =                  512 / reference pixel along FITS axis j              \n",
       "CRPIX1S =                  512 / reference pixel along FITS axis j              \n",
       "CUNIT2S = 'deg               ' / unit of WCS axis i                             \n",
       "CUNIT1S = 'deg               ' / unit of WCS axis i                             \n",
       "EQUINOXS=                 2000 / date of celestial reference frame              \n",
       "RADESYSS= 'FK5               ' / reference system for celestial coordinates     \n",
       "CNAME2S = 'Declination       ' / name of WCS axis i                             \n",
       "CNAME1S = 'Right Ascension   ' / name of WCS axis i                             \n",
       "CTYPE2S = 'DEC--TAN          ' / type of WCS axis i                             \n",
       "CTYPE1S = 'RA---TAN          ' / type of WCS axis i                             \n",
       "WCSNAMES= 'Celestial coordinates' / name of WCS                                 \n",
       "AIRMASS =        1.43872153759 / AIRMASS AT START OF OBSERVATION                \n",
       "OWNRNOTE= 'notyetset         ' / OWNRNOTE for archive data                      \n",
       "OWNRHINT= 'notyetset         ' / OWNRHINT for archive data                      \n",
       "HA      = '02:01:04.58       ' / HOUR ANGLE                                     \n",
       "DEC     = '00:25:01.4        ' / DECLINATION                                    \n",
       "RA      = '19:37:28.98       ' / RIGHT ASCENSION                                \n",
       "OBSERVER= 'ASTR257           ' / OBSERVER NAME                                  \n",
       "APERNAM = 'Open              ' / APERTURE POSITION NAME                         \n",
       "INSTRUME= 'Nickel Direct Camera'                                                \n",
       "TUB     =                    0 / TELESCOPE TUB ROTATION                         \n",
       "APERRAW =                 1250 / APERTURE RAW POSITION                          \n",
       "FILTRAW =                 2373 / FILTER RAW POSITION                            \n",
       "FILTORD =                    2 / FILTER ORDINAL POSITION                        \n",
       "APERORD =                    0 / APERTURE ORDINAL POSITION                      \n",
       "FILTNAM = 'V                 ' / FILTER POSITION NAME                           \n",
       "GEOMCODE=                    0 / READOUT GEOMETRY                               \n",
       "DSENSOR = 'Loral 2Kx2K       ' / SENSOR DESCRIPTION                             \n",
       "DNAXIS2 =                 2048 / ROWS IN SENSOR                                 \n",
       "DNAXIS1 =                 2048 / COLUMNS IN SENSOR                              \n",
       "UCAMADC = '4-amp QADC        ' / UCAM ADC BOARDS                                \n",
       "UCAMCDB = 'New CDB           ' / UCAM CDB BOARDS                                \n",
       "CAMERAID=                    2 / CAMERA ID NUMBER                               \n",
       "UCAMSPB = '2 DSPB            ' / UCAM SPB BOARDS                                \n",
       "UCAMSOFT= '4.08 052011       ' / UCAM SOFTWARE VERSION                          \n",
       "UCAMTIM = 'New Timing        ' / UCAM TIMING BOARDS                             \n",
       "ERPBIN  =                    5 / PARALLEL BINNING DURING ERASE                  \n",
       "ERASE   =                    3 / NUMBER OF ERASES                               \n",
       "PSKIP   =                    0 / CONTROLS POST-IMAGE SKIPPING                   \n",
       "CSMP    =                    1 / DCS CAP SELECTION                              \n",
       "CSELPRD =                    0 / PREREAD CLOCK SELECTION                        \n",
       "SCLEAN  =                    0 / SERIAL CLEANING CLOCK SELECTION                \n",
       "BINPRD  =                    0 / PREREAD SERIAL BINNING                         \n",
       "BINSCLN =                    0 / BINNING FOR SERIAL CLEAN                       \n",
       "PPRERD  =                    4 / PRE-IMAGE ROWS                                 \n",
       "PFREQ   =                    1 / PARALLEL CLOCK PERIOD                          \n",
       "PADDC   =                    0 / PARALLEL CLOCK CAPACITOR SELECTION             \n",
       "NSTIME  =                   32 / CONTROLS RISING TIME FOR SUBSTRATE             \n",
       "VSUBEX  =                    0 / SUBSTRATE VOLTAGE DURING EXPOSURE              \n",
       "VSUBER  =                    0 / SUBSTRATE VOLTAGE DURING ERASE                 \n",
       "NHBESP  =                   32 / BINNING FOR SPECIAL ERASE                      \n",
       "MERSP   =                    0 / CONTROLS SPECIAL ERASE MODE                    \n",
       "TCPR1   =                    4 / PRE-IMAGE SERIAL PIXELS                        \n",
       "TSPRD   =                   40 / SAMPLE TIME IN 0.1 MICROSECOND UNITS           \n",
       "TSCLEAN =                   40 / SERIAL CLEAN SAMPLE TIME                       \n",
       "SFREQ   =                    2 / SERIAL CLOCK PERIOD                            \n",
       "SADDC   =                    2 / SERIAL CLOCK CAP SELECTION                     \n",
       "REVERASE=                    0 / NUMBER OF REVERSE ERASES                       \n",
       "TCPR2   =                    4 / POST-IMAGE SERIAL PIXELS BEFORE OVERSCAN       \n",
       "DATE-BEG= '2019-09-24T05:33:51.11' / START OF OBSERVATION                       \n",
       "EQUINOXU=       2019.729980469 / EPOCH FOR POCO POSITION IS CURRENT DATE        \n",
       "DATE-END= '2019-09-24T05:34:51.11' / END OF OBSERVATION                         \n",
       "GAIN    =                    1 / DCS GAIN INDEX                                 \n",
       "TEMPCON =       14.19999980927 / CONTROLLER TEMPERATURE                         \n",
       "NCSHIFT =                    0 / NUMBER OF CHARGE SHUFFLES                      \n",
       "RCSHIFT =                    0 / NUMBER OF ROWS IN EACH CHARGE SHUFFLE          \n",
       "ROVER   =                    0 / NUMBER OF OVERSCAN ROWS                        \n",
       "COVER   =                   32 / NUMBER OF OVERSCAN COLUMNS                     \n",
       "MPP     =                    1 / MPP STATE                                      \n",
       "TEMPDET =      -109.3000030518 / EXPOSURE START DETECTOR TEMPERATURE            \n",
       "TEMPDETE=                    0 / EXPOSURE END DETECTOR TEMPERATURE              \n",
       "READ-SPD=                   80 / DCS READ SPEED                                 \n",
       "OBJECT  = 'land_v            '                                                  \n",
       "CKSUMOK =                    T / cd: CHECKSUMS MATCH                            \n",
       "CAMCKSUM=                61740 / cd: CAMERA-COMPUTED CHECKSUM                   \n",
       "SFTCKSUM=                61740 / cd: SOFTWARE-COMPUTED CHECKSUM                 \n",
       "COMMENT End of cards from other times                                           "
      ]
     },
     "execution_count": 26,
     "metadata": {},
     "output_type": "execute_result"
    }
   ],
   "source": [
    "h"
   ]
  },
  {
   "cell_type": "code",
   "execution_count": 13,
   "id": "74d06d37",
   "metadata": {},
   "outputs": [],
   "source": [
    "finder = DAOStarFinder(threshold=100, fwhm=3.26)\n",
    "\n",
    "r_aperture = 7 / 0.368 # 7\n",
    "def find_stars(data):\n",
    "    stars = finder.find_stars(data)\n",
    "    x, y = np.array(stars['xcentroid']), np.array(stars['ycentroid'])\n",
    "    return np.vstack((x, y)).T\n",
    "\n",
    "def phot(data, stars):\n",
    "    _, _, sigma = sigma_clipped_stats(data)\n",
    "    bkg = MedianBackground(SigmaClip(sigma))\n",
    "    aperture = CircularAperture(stars, r=r_aperture)\n",
    "    return aperture_photometry(data - bkg(data), aperture)"
   ]
  },
  {
   "cell_type": "code",
   "execution_count": 14,
   "id": "be5116e1",
   "metadata": {},
   "outputs": [],
   "source": [
    "landB_phot = phot(landB, find_stars(landB))\n",
    "landV_phot = phot(landV, find_stars(landB))\n",
    "ngcB_phot = phot(ngcB, find_stars(ngcB))\n",
    "ngcV_phot = phot(ngcV, find_stars(ngcB))"
   ]
  },
  {
   "cell_type": "code",
   "execution_count": 15,
   "id": "4f2d6a48",
   "metadata": {},
   "outputs": [
    {
     "data": {
      "text/html": [
       "<div><i>QTable length=27</i>\n",
       "<table id=\"table140479383189728\" class=\"table-striped table-bordered table-condensed\">\n",
       "<thead><tr><th>id</th><th>xcenter</th><th>ycenter</th><th>aperture_sum</th></tr></thead>\n",
       "<thead><tr><th></th><th>pix</th><th>pix</th><th></th></tr></thead>\n",
       "<thead><tr><th>int64</th><th>float64</th><th>float64</th><th>float64</th></tr></thead>\n",
       "<tr><td>1</td><td>1.5972660818020339</td><td>0.6168795727808891</td><td>59697.390592723474</td></tr>\n",
       "<tr><td>2</td><td>986.5082972946688</td><td>0.7493817499733455</td><td>-1677.8169824584493</td></tr>\n",
       "<tr><td>3</td><td>939.231896699993</td><td>80.27497524341771</td><td>-5173.13776896373</td></tr>\n",
       "<tr><td>4</td><td>979.813738672466</td><td>194.64824126050726</td><td>64833.53226539951</td></tr>\n",
       "<tr><td>5</td><td>838.0109281872664</td><td>198.2394974393369</td><td>-10787.515500590747</td></tr>\n",
       "<tr><td>6</td><td>508.8388170321753</td><td>208.3735971560415</td><td>6843.14982156485</td></tr>\n",
       "<tr><td>7</td><td>496.97013343979046</td><td>237.31555479657425</td><td>477445.99662659055</td></tr>\n",
       "<tr><td>8</td><td>4.908952005820857</td><td>434.9756319512614</td><td>13565.904099837753</td></tr>\n",
       "<tr><td>9</td><td>598.9878489876569</td><td>458.45932399974885</td><td>-10278.87085012807</td></tr>\n",
       "<tr><td>...</td><td>...</td><td>...</td><td>...</td></tr>\n",
       "<tr><td>18</td><td>986.7229485198333</td><td>895.1368766228733</td><td>-4420.769415758106</td></tr>\n",
       "<tr><td>19</td><td>361.354403340484</td><td>932.2566196165261</td><td>257103.1642452299</td></tr>\n",
       "<tr><td>20</td><td>361.14848320619967</td><td>932.2082478269751</td><td>257122.86838290776</td></tr>\n",
       "<tr><td>21</td><td>4.017162991216908</td><td>995.0653944774253</td><td>142159.02736513026</td></tr>\n",
       "<tr><td>22</td><td>71.47049884114314</td><td>996.3005605343723</td><td>28423.919820166826</td></tr>\n",
       "<tr><td>23</td><td>11.895459470729834</td><td>1004.2699708943105</td><td>263000.7396898933</td></tr>\n",
       "<tr><td>24</td><td>3.1010941798304223</td><td>1011.7037522281033</td><td>239675.31782228715</td></tr>\n",
       "<tr><td>25</td><td>9.915388644838853</td><td>1010.7329829068924</td><td>272235.0327416967</td></tr>\n",
       "<tr><td>26</td><td>30.433582646404684</td><td>1020.6521640368451</td><td>108693.19440060592</td></tr>\n",
       "<tr><td>27</td><td>510.34108099053356</td><td>1021.958979046561</td><td>4833.856198676208</td></tr>\n",
       "</table></div>"
      ],
      "text/plain": [
       "<QTable length=27>\n",
       "  id       xcenter            ycenter           aperture_sum   \n",
       "             pix                pix                            \n",
       "int64      float64            float64             float64      \n",
       "----- ------------------ ------------------ -------------------\n",
       "    1 1.5972660818020339 0.6168795727808891  59697.390592723474\n",
       "    2  986.5082972946688 0.7493817499733455 -1677.8169824584493\n",
       "    3   939.231896699993  80.27497524341771   -5173.13776896373\n",
       "    4   979.813738672466 194.64824126050726   64833.53226539951\n",
       "    5  838.0109281872664  198.2394974393369 -10787.515500590747\n",
       "    6  508.8388170321753  208.3735971560415    6843.14982156485\n",
       "    7 496.97013343979046 237.31555479657425  477445.99662659055\n",
       "    8  4.908952005820857  434.9756319512614  13565.904099837753\n",
       "    9  598.9878489876569 458.45932399974885  -10278.87085012807\n",
       "  ...                ...                ...                 ...\n",
       "   18  986.7229485198333  895.1368766228733  -4420.769415758106\n",
       "   19   361.354403340484  932.2566196165261   257103.1642452299\n",
       "   20 361.14848320619967  932.2082478269751  257122.86838290776\n",
       "   21  4.017162991216908  995.0653944774253  142159.02736513026\n",
       "   22  71.47049884114314  996.3005605343723  28423.919820166826\n",
       "   23 11.895459470729834 1004.2699708943105   263000.7396898933\n",
       "   24 3.1010941798304223 1011.7037522281033  239675.31782228715\n",
       "   25  9.915388644838853 1010.7329829068924   272235.0327416967\n",
       "   26 30.433582646404684 1020.6521640368451  108693.19440060592\n",
       "   27 510.34108099053356  1021.958979046561   4833.856198676208"
      ]
     },
     "execution_count": 15,
     "metadata": {},
     "output_type": "execute_result"
    }
   ],
   "source": [
    "landB_phot"
   ]
  },
  {
   "cell_type": "code",
   "execution_count": 7,
   "id": "67e3c78d",
   "metadata": {},
   "outputs": [
    {
     "name": "stderr",
     "output_type": "stream",
     "text": [
      "/var/folders/1p/5xh_74x92lz3n_268rmhwyrc0000gn/T/ipykernel_76347/702529097.py:7: RuntimeWarning: invalid value encountered in log10\n",
      "  mag_B = -2.5 * np.log10(ngcB_phot[\"aperture_sum\"] / 60) + zp_B\n",
      "/var/folders/1p/5xh_74x92lz3n_268rmhwyrc0000gn/T/ipykernel_76347/702529097.py:8: RuntimeWarning: invalid value encountered in log10\n",
      "  mag_V = -2.5 * np.log10(ngcV_phot[\"aperture_sum\"] / 60) + zp_V\n"
     ]
    }
   ],
   "source": [
    "refstar_idx = np.argmin((landB_phot['xcenter'].value - 498) ** 2 + (landB_phot['ycenter'].value - 237) ** 2)\n",
    "landB_flux = landB_phot[refstar_idx][\"aperture_sum\"] / 60\n",
    "landV_flux = landV_phot[refstar_idx][\"aperture_sum\"] / 60\n",
    "landV_mag, landB_mag = 12.388, 12.783\n",
    "zp_B = -2.5 * np.log10(1 / landB_flux) + landB_mag\n",
    "zp_V = -2.5 * np.log10(1 / landV_flux) + landV_mag\n",
    "mag_B = -2.5 * np.log10(ngcB_phot[\"aperture_sum\"] / 60) + zp_B\n",
    "mag_V = -2.5 * np.log10(ngcV_phot[\"aperture_sum\"] / 60) + zp_V"
   ]
  },
  {
   "cell_type": "code",
   "execution_count": 8,
   "id": "009d4d66",
   "metadata": {},
   "outputs": [
    {
     "name": "stdout",
     "output_type": "stream",
     "text": [
      "22.534932514398328 22.739705438940433\n"
     ]
    }
   ],
   "source": [
    "print(zp_B, zp_V)"
   ]
  },
  {
   "cell_type": "code",
   "execution_count": 9,
   "id": "d8c27842",
   "metadata": {},
   "outputs": [
    {
     "data": {
      "text/plain": [
       "Text(0.5, 1.0, 'Hertzsprung-Russell diagram of NGC 6819')"
      ]
     },
     "execution_count": 9,
     "metadata": {},
     "output_type": "execute_result"
    },
    {
     "data": {
      "image/png": "[encoded data removed]",
      "text/plain": [
       "<Figure size 640x480 with 1 Axes>"
      ]
     },
     "metadata": {},
     "output_type": "display_data"
    }
   ],
   "source": [
    "plt.scatter(mag_B - mag_V, mag_V, s=3, c='xkcd:lightish blue', alpha=0.75)\n",
    "plt.xlabel(\"B-V magnitude\")\n",
    "plt.ylabel(\"V magnitude\")\n",
    "plt.gca().invert_yaxis()\n",
    "plt.gca().spines['top'].set_visible(False)\n",
    "plt.gca().spines['right'].set_visible(False)\n",
    "plt.title(\"Hertzsprung-Russell diagram of NGC 6819\")\n",
    "plt.savefig(\"hr.pdf\")"
   ]
  },
  {
   "cell_type": "code",
   "execution_count": 30,
   "id": "37511a06",
   "metadata": {},
   "outputs": [],
   "source": [
    "from itertools import product"
   ]
  },
  {
   "cell_type": "code",
   "execution_count": 66,
   "id": "3745d0d3",
   "metadata": {},
   "outputs": [
    {
     "data": {
      "text/plain": [
       "<matplotlib.legend.Legend at 0x7f9995843d30>"
      ]
     },
     "execution_count": 66,
     "metadata": {},
     "output_type": "execute_result"
    },
    {
     "data": {
      "image/png": "[encoded data removed]",
      "text/plain": [
       "<Figure size 640x480 with 1 Axes>"
      ]
     },
     "metadata": {},
     "output_type": "display_data"
    }
   ],
   "source": [
    "ages = [str(i) + \"e\" + str(j) for (j, i) in product([7, 8, 9, 10], [1, 5])][1:-4]\n",
    "offset = 15\n",
    "for age in ages:\n",
    "    isochrone = pd.read_csv(path.join(datapath, f\"isochrones_{age}.dat\"), comment='#', delimiter='\\s+', header=0)\n",
    "    iso_v = isochrone[\"Vmag\"] + offset\n",
    "    iso_bmv = isochrone[\"Bmag\"] - isochrone[\"Vmag\"] \n",
    "    plt.plot(iso_bmv, iso_v, label=f\"{age} yrs\")\n",
    "plt.scatter(mag_B - mag_V, mag_V, s=3, c='xkcd:lightish blue', alpha=0.75, label=\"ngc\")\n",
    "plt.xlabel(\"B-V magnitude\")\n",
    "plt.ylabel(\"V magnitude\")\n",
    "plt.xlim(np.nanmin(mag_B - mag_V), np.nanmax(mag_B - mag_V))\n",
    "plt.ylim(np.nanmin(mag_V), np.nanmax(mag_V))\n",
    "plt.gca().invert_yaxis()\n",
    "plt.gca().spines['top'].set_visible(False)\n",
    "plt.gca().spines['right'].set_visible(False)\n",
    "plt.title(\"Hertzsprung-Russell diagram of NGC 6819\")\n",
    "plt.legend()"
   ]
  },
  {
   "cell_type": "code",
   "execution_count": null,
   "id": "a2516b8d",
   "metadata": {},
   "outputs": [],
   "source": []
  }
 ],
 "metadata": {
  "kernelspec": {
   "display_name": "Python 3.10.4 ('astr257')",
   "language": "python",
   "name": "python3"
  },
  "language_info": {
   "codemirror_mode": {
    "name": "ipython",
    "version": 3
   },
   "file_extension": ".py",
   "mimetype": "text/x-python",
   "name": "python",
   "nbconvert_exporter": "python",
   "pygments_lexer": "ipython3",
   "version": "3.10.4"
  },
  "vscode": {
   "interpreter": {
    "hash": "99f41cdb89c527d0fd5ee7895984daaaff1d133a65ac806f592721ea2d76c76d"
   }
  }
 },
 "nbformat": 4,
 "nbformat_minor": 5
}
