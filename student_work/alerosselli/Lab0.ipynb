{
 "cells": [
  {
   "cell_type": "markdown",
   "id": "95322c4a",
   "metadata": {},
   "source": [
    "# ASTRO 257: Project 0\n",
    "\n",
    "Alejandra Rosselli-Calderon"
   ]
  },
  {
   "cell_type": "code",
   "execution_count": 19,
   "id": "50736e10",
   "metadata": {},
   "outputs": [],
   "source": [
    "import numpy as np\n",
    "import pandas as pd\n",
    "import scipy as sci\n",
    "import matplotlib.pyplot as plt\n",
    "from astropy.io import fits\n",
    "from astropy.stats import sigma_clipped_stats\n",
    "from photutils.datasets import load_star_image\n",
    "from photutils import DAOStarFinder\n",
    "from astropy.stats import sigma_clipped_stats\n",
    "from astropy.nddata import Cutout2D\n",
    "from astropy.wcs import WCS\n",
    "from photutils.centroids import centroid_com, centroid_sources"
   ]
  },
  {
   "cell_type": "markdown",
   "id": "9d5f1164",
   "metadata": {},
   "source": [
    "#### Open the file test.fits in Python."
   ]
  },
  {
   "cell_type": "code",
   "execution_count": 20,
   "id": "8ebdfd14",
   "metadata": {},
   "outputs": [],
   "source": [
    "data = fits.open('test.fits')"
   ]
  },
  {
   "cell_type": "code",
   "execution_count": 21,
   "id": "49dd5952",
   "metadata": {},
   "outputs": [
    {
     "data": {
      "text/plain": [
       "SIMPLE  =                    T / Fits standard                                  \n",
       "BITPIX  =                  -32 / FOUR-BYTE SINGLE PRECISION FLOATING POINT      \n",
       "NAXIS   =                    2 / STANDARD FITS FORMAT                           \n",
       "NAXIS1  =                  256 / STANDARD FITS FORMAT                           \n",
       "NAXIS2  =                  256 / STANDARD FITS FORMAT                           \n",
       "ORIGIN  = 'Spitzer Science Center' / Organization generating this FITS file     \n",
       "CREATOR = 'S16.1.0 '           / SW version used to create this FITS file       \n",
       "TELESCOP= 'Spitzer '           / SPITZER Space Telescope                        \n",
       "INSTRUME= 'IRAC    '           / SPITZER Space Telescope instrument ID          \n",
       "CHNLNUM =                    2 / 1 digit instrument channel number              \n",
       "EXPTYPE = 'sci     '           / Exposure Type                                  \n",
       "REQTYPE = 'IER     '           / Request type (AOR, IER, or  SER)               \n",
       "AOT_TYPE= 'IRAC    '           / Observation template type                      \n",
       "AORLABEL= 'p40732_IRAC_hd189733_fpa24_sp4l2' / AOR Label                        \n",
       "FOVID   =                   74 / Field of View ID                               \n",
       "FOVNAME = 'IRAC_Center_of_4.5&8.0umArray' / Field of View Name                  \n",
       "                                                                                \n",
       "          / PROPOSAL INFORMATION                                                \n",
       "                                                                                \n",
       "OBSRVR  = 'Alfred Vidal-Madjar' / Observer Name (Last, First)                   \n",
       "OBSRVRID=                31383 / Observer ID of Principal Investigator          \n",
       "PROCYCL =                    7 / Proposal Cycle                                 \n",
       "PROGID  =                40732 / Program ID                                     \n",
       "PROTITLE= 'CO and H2O in the exoplanetary atmosphere of HD189733b (continued)'  \n",
       "PROGCAT =                   30 / Program Category                               \n",
       "                                                                                \n",
       "          / TIME AND EXPOSURE INFORMATION                                       \n",
       "                                                                                \n",
       "DATE_OBS= '2007-11-23T11:21:07.488' / Date & time at DCE start                  \n",
       "MJD_OBS =        54427.4730033 / [days] MJD at DCE start (,JD-2400000.5)        \n",
       "UTCS_OBS=        249088867.488 / [sec] J2000 ephem. time at DCE start           \n",
       "SCLK_OBS=        880284250.257 / [sec] SCLK time (since 1/1/1980) at DCE start  \n",
       "SAMPTIME=                  0.2 / [sec] Sample integration time                  \n",
       "FRAMTIME=                  0.4 / [sec] Time spent integrating (whole array)     \n",
       "COMMENT   Photons in Well = Flux[photons/sec/pixel] * FRAMTIME                  \n",
       "EXPTIME =                  0.2 / [sec] Effective integration time per pixel     \n",
       "COMMENT   DN per pixel = Flux[photons/sec/pixel] / GAIN * EXPTIME               \n",
       "INTRFDLY=              558.636 / [sec] Inter Frame Delay Time                   \n",
       "AINTBEG =            902509.69 / [Secs since IRAC turn-on] Time of integ. start \n",
       "ATIMEEND=            902510.06 / [Secs since IRAC turn-on] Time of integ. end   \n",
       "AFOWLNUM=                    1 / Fowler number                                  \n",
       "AWAITPER=                    0 / [0.2 sec] Wait period                          \n",
       "ANUMREPS=                    1 / Number of repeat integrations                  \n",
       "AREADMOD=                    0 / Full (0) or subarray (1)                       \n",
       "HDRMODE =                    F / DCE taken in High Dynamic Range mode           \n",
       "ABARREL =                    0 / Barrel shift                                   \n",
       "APEDSIG =                    0 / 0=Normal, 1=Pedestal, 2=Signal                 \n",
       "                                                                                \n",
       "          / TARGET AND POINTING INFORMATION                                     \n",
       "                                                                                \n",
       "OBJECT  = 'HD189733-Stellar-Mode' / Target Name                                 \n",
       "OBJTYPE = 'TargetFixedSingle'  / Object Type                                    \n",
       "CRVAL1  =      300.15801054639 / [deg] RA at CRPIX1,CRPIX2 (using Pointing Recon\n",
       "CRVAL2  =     22.6993273185915 / [deg] DEC at CRPIX1,CRPIX2 (using Pointing Reco\n",
       "RA_HMS  = '20h00m37.9s'        / [hh:mm:ss.s] CRVAL1 as sexagesimal             \n",
       "DEC_DMS = '+22d41m58s'         / [dd:mm:ss] CRVAL2 as sexagesimal               \n",
       "RADESYS = 'ICRS    '           / International Celestial Reference System       \n",
       "EQUINOX =                2000. / Equinox for ICRS celestial coord. system       \n",
       "CD1_1   = -6.39621123576514E-05 / Corrected CD matrix element with Pointing Reco\n",
       "CD1_2   = 0.000331623578286191 / Corrected CD matrix element with Pointing Recon\n",
       "CD2_1   = 0.000331784867815658 / Corrected CD matrix element with Pointing Recon\n",
       "CD2_2   =  6.3974625736492E-05 / Corrected CD matrix element with Pointing Recon\n",
       "CTYPE1  = 'RA---TAN-SIP'       / RA---TAN with distortion in pixel space        \n",
       "CTYPE2  = 'DEC--TAN-SIP'       / DEC--TAN with distortion in pixel space        \n",
       "CRPIX1  =                 128. / Reference pixel along axis 1                   \n",
       "CRPIX2  =                 128. / Reference pixel along axis 2                   \n",
       "PXSCAL1 =    -1.21641835430637 / [arcsec/pix] Scale for axis 1 at CRPIX1,CRPIX2 \n",
       "PXSCAL2 =     1.21585676679388 / [arcsec/pix] Scale for axis 2 at CRPIX1,CRPIX2 \n",
       "CRDER1  = 0.000302277262144999 / [deg] Uncertainty in CRVAL1                    \n",
       "CRDER2  = 0.000302295691641785 / [deg] Uncertainty in CRVAL2                    \n",
       "UNCRTPA =   0.0018494180557845 / [deg] Uncertainty in position angle            \n",
       "CSDRADEC= 7.27639127484002E-06 / [deg] Costandard deviation in RA and Dec       \n",
       "SIGRA   =   0.0152872299179727 / [arcsec] RMS dispersion of RA over DCE         \n",
       "SIGDEC  =  0.00359999999730576 / [arcsec] RMS dispersion of DEC over DCE        \n",
       "SIGPA   =    0.197196551694059 / [arcsec] RMS dispersion of PA over DCE         \n",
       "PA      =      79.081013292149 / [deg] Position angle of axis 2 (E of N) (was OR\n",
       "RA_RQST =     300.157970614191 / [deg] Requested RA at CRPIX1, CRPIX2           \n",
       "DEC_RQST=     22.6993815554401 / [deg] Requested Dec at CRPIX1, CRPIX2          \n",
       "PM_RA   =                   0. / [arcsec/yr] Proper Motion in RA (J2000)        \n",
       "PM_DEC  =                   0. / [arcsec/yr] Proper Motion in Dec (J200)        \n",
       "RMS_JIT =  0.00484459630671122 / [arcsec] RMS jitter during DCE                 \n",
       "RMS_JITY=  0.00149639844292889 / [arcsec] RMS jitter during DCE along Y         \n",
       "RMS_JITZ=   0.0046077006277535 / [arcsec] RMS jitter during DCE along Z         \n",
       "SIG_JTYZ=  0.00233427973902015 / [arcsec] Costadard deviation of jitter in YZ   \n",
       "PTGDIFF =    0.236026523560918 / [arcsec] Offset btwn actual and rqsted pntng   \n",
       "PTGDIFFX=   -0.216838982599037 / [pixels] rqsted - actual pntng along axis 1    \n",
       "PTGDIFFY=  -0.0932624955399191 / [pixels] rqsted - actual pntng along axis 2    \n",
       "RA_REF  =     300.158328333333 / [deg] Commanded RA (J2000) of ref. position    \n",
       "DEC_REF =     22.6994494444444 / [deg] Commanded Dec (J2000) of ref. position   \n",
       "USEDBPHF=                    T / T if Boresight Pointing History File was used  \n",
       "BPHFNAME= 'BPHF.0880243200.03.pntg' / Boresight Pointing History Filename       \n",
       "FOVVERSN= 'BodyFrames_FTU_14a.xls' / FOV/BodyFrames file version used           \n",
       "RECONFOV= 'IRAC_Center_of_4.5umArray' / Reconstructed Field of View             \n",
       "                                                                                \n",
       "                                                                                \n",
       "                                                                                \n",
       "          / DISTORTION KEYWORDS                                                 \n",
       "                                                                                \n",
       "A_ORDER =                    3 / polynomial order, axis 1, detector to sky      \n",
       "A_0_2   =           1.0582E-08 / distortion coefficient                         \n",
       "A_0_3   =          -3.0831E-09 / distortion coefficient                         \n",
       "A_1_1   =           3.0188E-05 / distortion coefficient                         \n",
       "A_1_2   =          -1.8817E-07 / distortion coefficient                         \n",
       "A_2_0   =           1.9063E-05 / distortion coefficient                         \n",
       "A_2_1   =           6.5975E-09 / distortion coefficient                         \n",
       "A_3_0   =          -1.8531E-07 / distortion coefficient                         \n",
       "A_DMAX  =                1.645 / [pixel] maximum correction                     \n",
       "B_ORDER =                    3 / polynomial order, axis 2, detector to sky      \n",
       "B_0_2   =           3.4386E-05 / distortion coefficient                         \n",
       "B_0_3   =          -1.7897E-07 / distortion coefficient                         \n",
       "B_1_1   =           1.8781E-05 / distortion coefficient                         \n",
       "B_1_2   =           3.7246E-09 / distortion coefficient                         \n",
       "B_2_0   =           3.7734E-06 / distortion coefficient                         \n",
       "B_2_1   =          -1.7747E-07 / distortion coefficient                         \n",
       "B_3_0   =          -5.2103E-10 / distortion coefficient                         \n",
       "B_DMAX  =                1.738 / [pixel] maximum correction                     \n",
       "AP_ORDER=                    3 / polynomial order, axis 1, sky to detector      \n",
       "AP_0_1  =           5.0237E-07 / distortion coefficient                         \n",
       "AP_0_2  =          -5.1645E-08 / distortion coefficient                         \n",
       "AP_0_3  =           3.0939E-09 / distortion coefficient                         \n",
       "AP_1_0  =          -2.1471E-05 / distortion coefficient                         \n",
       "AP_1_1  =          -3.0796E-05 / distortion coefficient                         \n",
       "AP_1_2  =           1.9379E-07 / distortion coefficient                         \n",
       "AP_2_0  =          -1.9359E-05 / distortion coefficient                         \n",
       "AP_2_1  =          -4.4162E-09 / distortion coefficient                         \n",
       "AP_3_0  =           1.8929E-07 / distortion coefficient                         \n",
       "BP_ORDER=                    3 / polynomial order, axis 2, sky to detector      \n",
       "BP_0_1  =           -1.997E-05 / distortion coefficient                         \n",
       "BP_0_2  =           -3.491E-05 / distortion coefficient                         \n",
       "BP_0_3  =           1.8428E-07 / distortion coefficient                         \n",
       "BP_1_0  =             5.83E-07 / distortion coefficient                         \n",
       "BP_1_1  =          -1.9129E-05 / distortion coefficient                         \n",
       "BP_1_2  =          -1.2856E-09 / distortion coefficient                         \n",
       "BP_2_0  =          -3.8713E-06 / distortion coefficient                         \n",
       "BP_2_1  =            1.821E-07 / distortion coefficient                         \n",
       "BP_3_0  =           7.0846E-10 / distortion coefficient                         \n",
       "                                                                                \n",
       "          / PHOTOMETRY                                                          \n",
       "                                                                                \n",
       "BUNIT   = 'MJy/sr  '           / Units of image data                            \n",
       "FLUXCONV=               0.1388 / Flux Conv. factor (MJy/sr per DN/sec)          \n",
       "GAIN    =                 3.71 / e/DN conversion                                \n",
       "RONOISE =                 23.7 / [Electrons] Readout Noise from Array           \n",
       "ZODY_EST=            0.2013188 / [MJy/sr] Zodiacal Background Estimate          \n",
       "ISM_EST =            0.1267735 / [MJy/sr] Interstellar Medium Estimate          \n",
       "CIB_EST =                   0. / [MJy/sr] Cosmic Infrared Background Estimate   \n",
       "SKYDRKZB=             0.171163 / [MJy/sr] Zodiacal Background Est of subracted s\n",
       "SKYDKMED=             -0.16403 / [MJy/sr] Median of Subtracted Skydark          \n",
       "SKDKFDLY=               16.331 / [sec] Average Frame Delay Time of Skydark      \n",
       "SKDKIDLY=               16.331 / [sec] Average Immediate Delay Time of Skydark  \n",
       "                                                                                \n",
       "          / IRAC MAPPING KEYWORDS                                               \n",
       "                                                                                \n",
       "READMODE= 'FULL    '           / Readout mode                                   \n",
       "                                                                                \n",
       "          / INSTRUMENT TELEMETRY DATA                                           \n",
       "                                                                                \n",
       "ASHTCON =                    2 / Shutter condition (1:closed, 2: open)          \n",
       "AWEASIDE=                    0 / WEA side in use (0:B, 1:A)                     \n",
       "ACTXSTAT=                    0 / Cmded transcal status                          \n",
       "ATXSTAT =                    0 / transcal status                                \n",
       "ACFLSTAT=                    0 / Cmded floodcal status                          \n",
       "AFLSTAT =                    0 / floodcal status                                \n",
       "AVRSTUCC=                 -3.5 / [Volts] Cmded VRSTUC Bias                      \n",
       "AVRSTBEG=           -3.5082063 / [Volts] VRSTUC Bias at start integration       \n",
       "AVDETC  =                  -3. / [Volts] Cmded VDET Bias                        \n",
       "AVDETBEG=           -3.0059266 / [Volts] VDET Bias at start of integration      \n",
       "AVGG1C  =                -3.65 / [Volts] Cmded VGG1 Bias                        \n",
       "AVGG1BEG=            -3.658379 / [Volts] VGG1 Bias at start of integration      \n",
       "AVDDUCC =                   -3 / [Volts] Cmded VDDUC Bias                       \n",
       "AVDDUBEG=                   -3 / [Volts] VDDUC Bias at start integration        \n",
       "AVGGCLC =                    0 / [Volts] Cmnded VGGCL clock rail voltage        \n",
       "AVGGCBEG=                    0 / [Volts] VGGCL clock rail voltage               \n",
       "AHTRIBEG=            241.39576 / [uAmps] Heater current at start of integ       \n",
       "AHTRVBEG=            2.8438085 / [Volts] Heater Voltage at start integ.         \n",
       "AFPAT2B =            15.082486 / [Deg_K] FPA Temp sensor #2 at start integ.     \n",
       "AFPAT2BT=            902485.97 / [Sec] FPA Temp sensor #2 time tag              \n",
       "AFPAT2E =            15.082486 / [Deg_K] FPA temp sensor #2, end integ.         \n",
       "AFPAT2ET=            902485.97 / [Sec] FPA temp sensor #2 time tag              \n",
       "ACTENDT =            20.376773 / [Deg_C] C&T board thermistor                   \n",
       "AFPECTE =            18.437095 / [Deg_C] FPE control board thermistor           \n",
       "AFPEATE =            21.419911 / [Deg_C] FPE analog board thermistor            \n",
       "ASHTEMPE=            21.535044 / [Deg_C] Shutter board thermistor               \n",
       "ATCTEMPE=            22.723797 / [Deg_C] Temp. controller board thermistor      \n",
       "ACETEMPE=            20.315812 / [Deg_C] Calib. electronics board thermistor    \n",
       "APDTEMPE=            20.468216 / [Deg_C] PDU board thermistor                   \n",
       "ACATMP1E=            1.3025925 / [Deg_K] CA Temp, end integration for temp1     \n",
       "ACATMP2E=            1.2853129 / [Deg_K] CA Temp, end integration for temp2     \n",
       "ACATMP3E=            1.3179026 / [Deg_K] CA Temp, end integration for temp3     \n",
       "ACATMP4E=            1.3148531 / [Deg_K] CA Temp, end integration for temp4     \n",
       "ACATMP5E=            1.3128609 / [Deg_K] CA Temp, end integration for temp5     \n",
       "ACATMP6E=            1.3112085 / [Deg_K] CA Temp, end integration for temp6     \n",
       "ACATMP7E=            1.3099479 / [Deg_K] CA Temp, end integration for temp7     \n",
       "ACATMP8E=            1.3028896 / [Deg_K] CA Temp, end integration for temp8     \n",
       "                                                                                \n",
       "          / DATA FLOW KEYWORDS                                                  \n",
       "                                                                                \n",
       "ORIGIN0 = 'JPL_FOS '           / Site where RAW FITS file was written           \n",
       "CREATOR0= 'J5.3    '           / SW system that created RAW FITS                \n",
       "DATE    = '2007-11-29T19:30:48' / [YYYY-MM-DDThh:mm:ss UTC] file creation date  \n",
       "AORKEY  =             24538368 / AOR or EIR key. Astrnmy Obs Req/Instr Eng Req  \n",
       "DS_IDENT= 'ads/sa.spitzer#0024538368' / Data Set Identification for ADS/journals\n",
       "EXPID   =                    0 / Exposure ID (0-9999)                           \n",
       "DCENUM  =                    0 / DCE number (0-9999)                            \n",
       "TLMGRPS =                    1 / expected number of groups                      \n",
       "FILE_VER=                    1 / Version of the raw file made by SIS            \n",
       "RAWFILE = 'IRAC.2.0024538368.0000.0000.01.mipl.fits' / Raw data file name       \n",
       "CPT_VER = '3.1.11  '           / Channel Param Table FOS versioN                \n",
       "CTD_VER = '3.0.94S '           / Cmded telemetry data version                   \n",
       "EXPDFLAG=                    F / (T/F) expedited DCE                            \n",
       "MISS_LCT=                    0 / Total Missed Line Cnt in this FITS             \n",
       "MANCPKT =                    F / T if this FITS is Missing Ancillary Data       \n",
       "MISSDATA=                    F / T if this FITS is Missing Image Data           \n",
       "CHECKSUM=                    0 / MIPL computed checksum                         \n",
       "PAONUM  =                 2678 / PAO Number                                     \n",
       "CAMPAIGN= 'IRAC011900'         / Campaign                                       \n",
       "DCEID   =             91239530 / Data-Collection-Event ID                       \n",
       "DCEINSID=             19006138 / DCE Instance ID                                \n",
       "DPID    =            203760592 / Data Product Instance ID                       \n",
       "PIPENUM =                  107 / Pipeline Script Number                         \n",
       "SOS_VER =                    2 / Data-Product Version                           \n",
       "PLVID   =                    5 / Pipeline Version ID                            \n",
       "CALID   =                    7 / CalTrans Version ID                            \n",
       "                                                                                \n",
       "SDRKEPID=              3514132 / Sky Dark ensemble product ID                   \n",
       "                                                                                \n",
       "PMSKFBID=                  997 / Pixel mask ID                                  \n",
       "LDRKFBID=                  858 / Fall-back lab dark ID                          \n",
       "LINCFBID=                  359 / Fall-back Linearity correction ID              \n",
       "FLATFBID=                 1013 / Fall-back flat ID                              \n",
       "FLXCFBID=                 1027 / Flux conversion ID                             \n",
       "MBLTFBID=                  700 / Muxbleed Lookup Table ID                       \n",
       "MBCFFBID=                  701 / Muxbleed Coefficients ID                       \n",
       "LBDRKFLE= 'FUL_0.4s_0.4sf1d1r1_ch2_v1.2.0_dark.txt' / Labdark File Used         \n",
       "DDCORR1 =           -0.3074524 / Darkdrift Correction for Readout Channel 1     \n",
       "DDCORR2 =           0.03322065 / Darkdrift Correction for Readout Channel 2     \n",
       "DDCORR3 =            0.2388235 / Darkdrift Correction for Readout Channel 3     \n",
       "DDCORR4 =           0.03540815 / Darkdrift Correction for Readout Channel 4     \n",
       "DDBKGND =            0.3713062 / arkdrift 'Background' Term                     \n",
       "                                                                                \n",
       "                                                                                \n",
       "                                                                                \n",
       "          / PROCESSING HISTORY                                                  \n",
       "                                                                                \n",
       "HISTORY job.c ver: 1.50                                                         \n",
       "HISTORY TRANHEAD                  v.         12.8, ran Thu Nov 29 11:30:08 2007 \n",
       "HISTORY CALTRANS                 v.        4.0, ran Thu Nov 29 11:30:14 2007    \n",
       "HISTORY INSBPOSDOM                v.          1.1, ran Thu Nov 29 11:30:14 2007 \n",
       "HISTORY cvti2r4           v.  1.31 A61025, generated 11/29/07 at 11:30:16       \n",
       "HISTORY hdrupd8           v.  1.5  A50126,  updated  11/29/07 at 11:30:20       \n",
       "HISTORY FFC                       v.          1.0, ran Thu Nov 29 11:30:21 2007 \n",
       "HISTORY MUXBLEEDCORR              v.        1.600, ran Thu Nov 29 11:30:24 2007 \n",
       "HISTORY FOWLINEARIZE              v.     4.900000, ran Thu Nov 29 11:30:25 2007 \n",
       "HISTORY hdrupd8           v.  1.5  A50126,  updated  11/29/07 at 11:30:28       \n",
       "HISTORY BGMODEL                   v.          1.0, ran Thu Nov 29 11:30:28 2007 \n",
       "HISTORY SLREMOVE                  v.          1.0, ran Thu Nov 29 11:30:29 2007 \n",
       "HISTORY hdrupd8           v.  1.5  A50126,  updated  11/29/07 at 11:30:31       \n",
       "HISTORY hdrupd8           v.  1.5  A50126,  updated  11/29/07 at 11:30:33       \n",
       "HISTORY hdrupd8           v.  1.5  A50126,  updated  11/29/07 at 11:30:35       \n",
       "HISTORY hdrupd8           v.  1.5  A50126,  updated  11/29/07 at 11:30:37       \n",
       "HISTORY hdrupd8           v.  1.5  A50126,  updated  11/29/07 at 11:30:39       \n",
       "HISTORY DARKSUBNG                 v. 1.000, ran Thu Nov 29 11:30:39 2007        \n",
       "HISTORY DARKDRIFT                 v.          4.0, ran Thu Nov 29 11:30:40 2007 \n",
       "HISTORY FLATAP                    v. 1.500   Thu Nov 29 11:30:42 2007           \n",
       "HISTORY DNTOFLUX                  v.          4.1, ran Thu Nov 29 11:30:48 2007 \n",
       "HISTORY CALTRANS                 v.        4.0, ran Thu Nov 29 11:54:48 2007    \n",
       "HISTORY CALTRANS                 v.        4.0, ran Thu Nov 29 12:59:15 2007    \n",
       "HISTORY PTNTRAN                   v.          1.4, ran Thu Nov 29 12:59:19 2007 \n",
       "HISTORY FPGen                     v.         1.25, ran Thu Nov 29 12:59:20 2007 "
      ]
     },
     "execution_count": 21,
     "metadata": {},
     "output_type": "execute_result"
    }
   ],
   "source": [
    "data[0].header"
   ]
  },
  {
   "cell_type": "code",
   "execution_count": 22,
   "id": "49636fda",
   "metadata": {},
   "outputs": [
    {
     "name": "stdout",
     "output_type": "stream",
     "text": [
      "Filename: test.fits\n",
      "No.    Name      Ver    Type      Cards   Dimensions   Format\n",
      "  0  PRIMARY       1 PrimaryHDU     269   (256, 256)   float32   \n"
     ]
    }
   ],
   "source": [
    "data.info()"
   ]
  },
  {
   "cell_type": "code",
   "execution_count": 23,
   "id": "049972f2",
   "metadata": {},
   "outputs": [
    {
     "data": {
      "text/plain": [
       "<matplotlib.image.AxesImage at 0x7ff58774c940>"
      ]
     },
     "execution_count": 23,
     "metadata": {},
     "output_type": "execute_result"
    },
    {
     "data": {
      "image/png": "[encoded data removed]",
      "text/plain": [
       "<Figure size 432x288 with 1 Axes>"
      ]
     },
     "metadata": {
      "needs_background": "light"
     },
     "output_type": "display_data"
    }
   ],
   "source": [
    "image = data[0].data\n",
    "plt.imshow(image)"
   ]
  },
  {
   "cell_type": "code",
   "execution_count": 24,
   "id": "0f50964d",
   "metadata": {},
   "outputs": [
    {
     "data": {
      "text/plain": [
       "<matplotlib.colorbar.Colorbar at 0x7ff588142d90>"
      ]
     },
     "execution_count": 24,
     "metadata": {},
     "output_type": "execute_result"
    },
    {
     "data": {
      "image/png": "[encoded data removed]",
      "text/plain": [
       "<Figure size 432x288 with 2 Axes>"
      ]
     },
     "metadata": {
      "needs_background": "light"
     },
     "output_type": "display_data"
    }
   ],
   "source": [
    "plt.imshow(image, cmap='gray')\n",
    "plt.colorbar()"
   ]
  },
  {
   "cell_type": "code",
   "execution_count": 25,
   "id": "853e2040",
   "metadata": {},
   "outputs": [
    {
     "data": {
      "text/plain": [
       "(256, 256)"
      ]
     },
     "execution_count": 25,
     "metadata": {},
     "output_type": "execute_result"
    }
   ],
   "source": [
    "image.shape"
   ]
  },
  {
   "cell_type": "markdown",
   "id": "4eb6b4b5",
   "metadata": {},
   "source": [
    "#### Find brightest star"
   ]
  },
  {
   "cell_type": "code",
   "execution_count": 26,
   "id": "51831024",
   "metadata": {},
   "outputs": [
    {
     "data": {
      "text/plain": [
       "26"
      ]
     },
     "execution_count": 26,
     "metadata": {},
     "output_type": "execute_result"
    }
   ],
   "source": [
    "np.count_nonzero(np.isnan(image))"
   ]
  },
  {
   "cell_type": "code",
   "execution_count": 27,
   "id": "17701b21",
   "metadata": {},
   "outputs": [
    {
     "name": "stdout",
     "output_type": "stream",
     "text": [
      "Min: -39.97457\n",
      "Max: 17760.541\n",
      "Mean: 2.5579095\n",
      "Stdev: 117.186134\n"
     ]
    }
   ],
   "source": [
    "print('Min:', np.nanmin(image))\n",
    "print('Max:', np.nanmax(image))\n",
    "print('Mean:', np.nanmean(image))\n",
    "print('Stdev:', np.nanstd(image))"
   ]
  },
  {
   "cell_type": "code",
   "execution_count": 28,
   "id": "4e9addfc",
   "metadata": {},
   "outputs": [
    {
     "data": {
      "text/plain": [
       "(array([50]), array([56]))"
      ]
     },
     "execution_count": 28,
     "metadata": {},
     "output_type": "execute_result"
    }
   ],
   "source": [
    "max_index = np.where(image == np.nanmax(image))\n",
    "max_index"
   ]
  },
  {
   "cell_type": "markdown",
   "id": "eb00f083",
   "metadata": {},
   "source": [
    "#### Crop a 40x40 pixel region around the brightest star in the image."
   ]
  },
  {
   "cell_type": "code",
   "execution_count": 29,
   "id": "b9e1b844",
   "metadata": {},
   "outputs": [],
   "source": [
    "position = (56, 50)\n",
    "size = (40, 40)     # pixels\n",
    "cutout = Cutout2D(image, position, size)"
   ]
  },
  {
   "cell_type": "code",
   "execution_count": 30,
   "id": "a72d645e",
   "metadata": {},
   "outputs": [
    {
     "name": "stdout",
     "output_type": "stream",
     "text": [
      "(40, 40)\n"
     ]
    }
   ],
   "source": [
    "print(cutout.shape)"
   ]
  },
  {
   "cell_type": "code",
   "execution_count": 31,
   "id": "1175520c",
   "metadata": {},
   "outputs": [
    {
     "data": {
      "text/plain": [
       "<matplotlib.image.AxesImage at 0x7ff5881d5430>"
      ]
     },
     "execution_count": 31,
     "metadata": {},
     "output_type": "execute_result"
    },
    {
     "data": {
      "image/png": "[encoded data removed]",
      "text/plain": [
       "<Figure size 432x288 with 1 Axes>"
      ]
     },
     "metadata": {
      "needs_background": "light"
     },
     "output_type": "display_data"
    }
   ],
   "source": [
    "plt.imshow(cutout.data, origin='lower')"
   ]
  },
  {
   "cell_type": "code",
   "execution_count": 32,
   "id": "0f7ea592",
   "metadata": {},
   "outputs": [
    {
     "data": {
      "text/plain": [
       "<matplotlib.colorbar.Colorbar at 0x7ff5805c8fd0>"
      ]
     },
     "execution_count": 32,
     "metadata": {},
     "output_type": "execute_result"
    },
    {
     "data": {
      "image/png": "[encoded data removed]",
      "text/plain": [
       "<Figure size 432x288 with 2 Axes>"
      ]
     },
     "metadata": {
      "needs_background": "light"
     },
     "output_type": "display_data"
    }
   ],
   "source": [
    "plt.imshow(image, cmap='gray')\n",
    "plt.plot(56,50, 'o')\n",
    "plt.colorbar()"
   ]
  },
  {
   "cell_type": "markdown",
   "id": "2074310a",
   "metadata": {},
   "source": [
    "#### Save the cropped region as test2.fits."
   ]
  },
  {
   "cell_type": "code",
   "execution_count": 33,
   "id": "6c7bd134",
   "metadata": {},
   "outputs": [],
   "source": [
    "hdu = fits.open('test.fits')[0]\n",
    "wcs = WCS(hdu.header)\n",
    "hdu.data = cutout.data\n",
    "hdu.header.update(wcs.to_header())\n",
    "cutout_filename = 'test2.fits'\n",
    "hdu.writeto(cutout_filename, overwrite=True)"
   ]
  },
  {
   "cell_type": "markdown",
   "id": "0aa5b2d4",
   "metadata": {},
   "source": [
    "#### Use the code photutils to measure the centroid of this star in the uncropped region\n"
   ]
  },
  {
   "cell_type": "code",
   "execution_count": 34,
   "id": "f280eb96",
   "metadata": {},
   "outputs": [],
   "source": [
    "x, y = centroid_sources(image, max_index[0][0], max_index[1][0], box_size=21,\n",
    "                        centroid_func=centroid_com)"
   ]
  },
  {
   "cell_type": "code",
   "execution_count": 35,
   "id": "ee69efbe",
   "metadata": {},
   "outputs": [
    {
     "data": {
      "text/plain": [
       "array([55.59600389])"
      ]
     },
     "execution_count": 35,
     "metadata": {},
     "output_type": "execute_result"
    }
   ],
   "source": [
    "x"
   ]
  },
  {
   "cell_type": "code",
   "execution_count": 36,
   "id": "0f6f7797",
   "metadata": {},
   "outputs": [
    {
     "data": {
      "text/plain": [
       "array([50.34614598])"
      ]
     },
     "execution_count": 36,
     "metadata": {},
     "output_type": "execute_result"
    }
   ],
   "source": [
    "y"
   ]
  },
  {
   "cell_type": "code",
   "execution_count": null,
   "id": "e96d6398",
   "metadata": {},
   "outputs": [],
   "source": []
  }
 ],
 "metadata": {
  "kernelspec": {
   "display_name": "Python 3 (ipykernel)",
   "language": "python",
   "name": "python3"
  },
  "language_info": {
   "codemirror_mode": {
    "name": "ipython",
    "version": 3
   },
   "file_extension": ".py",
   "mimetype": "text/x-python",
   "name": "python",
   "nbconvert_exporter": "python",
   "pygments_lexer": "ipython3",
   "version": "3.9.12"
  }
 },
 "nbformat": 4,
 "nbformat_minor": 5
}
