{
 "cells": [
  {
   "cell_type": "code",
   "execution_count": 103,
   "id": "eff7bc31",
   "metadata": {
    "scrolled": true
   },
   "outputs": [],
   "source": [
    "# importing \n",
    "\n",
    "\n",
    "from astropy.io import fits\n",
    "import numpy\n",
    "import matplotlib.pyplot as plt\n",
    "from astropy.wcs import WCS"
   ]
  },
  {
   "cell_type": "code",
   "execution_count": 104,
   "id": "6b7a3ecb",
   "metadata": {},
   "outputs": [],
   "source": [
    "hdul = fits.open('test.fits')"
   ]
  },
  {
   "cell_type": "code",
   "execution_count": 108,
   "id": "9d81af2d",
   "metadata": {},
   "outputs": [],
   "source": [
    "image = hdul[0].data\n",
    "image_head = WCS (hdul[0].header)"
   ]
  },
  {
   "cell_type": "code",
   "execution_count": 92,
   "id": "08e933f0",
   "metadata": {},
   "outputs": [
    {
     "data": {
      "image/png": "[encoded data removed]",
      "text/plain": [
       "<Figure size 432x288 with 1 Axes>"
      ]
     },
     "metadata": {
      "needs_background": "light"
     },
     "output_type": "display_data"
    }
   ],
   "source": [
    "imageprint = plt.imshow(image)"
   ]
  },
  {
   "cell_type": "code",
   "execution_count": 93,
   "id": "700cd5c0",
   "metadata": {
    "scrolled": true
   },
   "outputs": [
    {
     "data": {
      "text/plain": [
       "<matplotlib.image.AxesImage at 0x1e454e2bdf0>"
      ]
     },
     "execution_count": 93,
     "metadata": {},
     "output_type": "execute_result"
    },
    {
     "data": {
      "image/png": "[encoded data removed]",
      "text/plain": [
       "<Figure size 432x288 with 1 Axes>"
      ]
     },
     "metadata": {
      "needs_background": "light"
     },
     "output_type": "display_data"
    }
   ],
   "source": [
    "plt.imshow(image[75:115,150:190])\n",
    "#star in the middle-right\n",
    "#this one looks brightest"
   ]
  },
  {
   "cell_type": "code",
   "execution_count": null,
   "id": "f1a8348d",
   "metadata": {
    "scrolled": true
   },
   "outputs": [],
   "source": [
    "cropped_image = image[75:115,150:190]"
   ]
  },
  {
   "cell_type": "code",
   "execution_count": 109,
   "id": "58c64bfd",
   "metadata": {},
   "outputs": [],
   "source": [
    "hdul.data = cropped_image.data\n",
    "hdul[0].header.update (image_head.to_header())"
   ]
  },
  {
   "cell_type": "code",
   "execution_count": 114,
   "id": "a6615852",
   "metadata": {},
   "outputs": [],
   "source": [
    "hdul.writeto('test2.fits', overwrite = True)"
   ]
  },
  {
   "cell_type": "code",
   "execution_count": 115,
   "id": "1f0698b8",
   "metadata": {},
   "outputs": [],
   "source": []
  },
  {
   "cell_type": "code",
   "execution_count": null,
   "id": "ecb24e0d",
   "metadata": {
    "scrolled": true
   },
   "outputs": [],
   "source": []
  },
  {
   "cell_type": "code",
   "execution_count": null,
   "id": "74f28245",
   "metadata": {},
   "outputs": [],
   "source": []
  }
 ],
 "metadata": {
  "kernelspec": {
   "display_name": "Python 3 (ipykernel)",
   "language": "python",
   "name": "python3"
  },
  "language_info": {
   "codemirror_mode": {
    "name": "ipython",
    "version": 3
   },
   "file_extension": ".py",
   "mimetype": "text/x-python",
   "name": "python",
   "nbconvert_exporter": "python",
   "pygments_lexer": "ipython3",
   "version": "3.9.12"
  }
 },
 "nbformat": 4,
 "nbformat_minor": 5
}
